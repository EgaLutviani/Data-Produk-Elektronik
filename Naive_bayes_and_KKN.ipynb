{
  "nbformat": 4,
  "nbformat_minor": 0,
  "metadata": {
    "colab": {
      "provenance": [],
      "mount_file_id": "1aDU10Hejug_UupcoOizrhKL_Eef9-zlj",
      "authorship_tag": "ABX9TyOOXDeX7QiFyj18bW7ztu3u",
      "include_colab_link": true
    },
    "kernelspec": {
      "name": "python3",
      "display_name": "Python 3"
    },
    "language_info": {
      "name": "python"
    }
  },
  "cells": [
    {
      "cell_type": "markdown",
      "metadata": {
        "id": "view-in-github",
        "colab_type": "text"
      },
      "source": [
        "<a href=\"https://colab.research.google.com/github/EgaLutviani/Data-Produk-Elektronik/blob/main/Naive_bayes_and_KKN.ipynb\" target=\"_parent\"><img src=\"https://colab.research.google.com/assets/colab-badge.svg\" alt=\"Open In Colab\"/></a>"
      ]
    },
    {
      "cell_type": "code",
      "source": [
        "import numpy as np\n",
        "import pandas as pd\n",
        "import matplotlib.pyplot as plt\n",
        "import seaborn as sns\n",
        "\n",
        "from sklearn.datasets import load_iris\n",
        "from sklearn.model_selection import train_test_split\n",
        "from sklearn.preprocessing import StandardScaler\n",
        "from sklearn.naive_bayes import GaussianNB\n",
        "from sklearn.neighbors import KNeighborsClassifier\n",
        "from sklearn.metrics import accuracy_score, confusion_matrix, classification_report\n"
      ],
      "metadata": {
        "id": "Phy8b3r0odc_"
      },
      "execution_count": null,
      "outputs": []
    },
    {
      "cell_type": "code",
      "source": [
        "# Memuat dataset Iris\n",
        "iris = load_iris()\n",
        "X = iris.data\n",
        "y = iris.target\n",
        "feature_names = iris.feature_names\n",
        "target_names = iris.target_names\n",
        "\n",
        "# Membagi data menjadi training dan testing (80% train, 20% test)\n",
        "X_train, X_test, y_train, y_test = train_test_split(X, y, test_size=0.2, random_state=42)\n",
        "\n",
        "# Standarisasi fitur\n",
        "scaler = StandardScaler()\n",
        "X_train_scaled = scaler.fit_transform(X_train)\n",
        "X_test_scaled = scaler.transform(X_test)"
      ],
      "metadata": {
        "id": "l4bmYqdoohfA"
      },
      "execution_count": null,
      "outputs": []
    },
    {
      "cell_type": "code",
      "source": [
        "# Inisialisasi dan pelatihan model Naive Bayes\n",
        "nb_model = GaussianNB()\n",
        "nb_model.fit(X_train_scaled, y_train)\n",
        "\n",
        "# Prediksi\n",
        "y_pred_nb = nb_model.predict(X_test_scaled)\n"
      ],
      "metadata": {
        "id": "t6gH0tPKpL--"
      },
      "execution_count": null,
      "outputs": []
    },
    {
      "cell_type": "code",
      "source": [
        "# Inisialisasi dan pelatihan model KNN dengan k=5\n",
        "knn_model = KNeighborsClassifier(n_neighbors=5)\n",
        "knn_model.fit(X_train_scaled, y_train)\n",
        "\n",
        "# Prediksi\n",
        "y_pred_knn = knn_model.predict(X_test_scaled)\n"
      ],
      "metadata": {
        "id": "GcIMElUGpODT"
      },
      "execution_count": null,
      "outputs": []
    },
    {
      "cell_type": "code",
      "source": [
        "# Evaluasi Naive Bayes\n",
        "print(\"Naive Bayes Classification Report:\")\n",
        "print(classification_report(y_test, y_pred_nb, target_names=target_names))\n",
        "print(\"Confusion Matrix:\")\n",
        "print(confusion_matrix(y_test, y_pred_nb))\n",
        "\n",
        "# Evaluasi KNN\n",
        "print(\"\\nKNN Classification Report:\")\n",
        "print(classification_report(y_test, y_pred_knn, target_names=target_names))\n",
        "print(\"Confusion Matrix:\")\n",
        "print(confusion_matrix(y_test, y_pred_knn))\n"
      ],
      "metadata": {
        "id": "p7WVH_CbpUW3"
      },
      "execution_count": null,
      "outputs": []
    },
    {
      "cell_type": "code",
      "source": [
        "# Visualisasi Confusion Matrix untuk Naive Bayes\n",
        "plt.figure(figsize=(6,4))\n",
        "sns.heatmap(confusion_matrix(y_test, y_pred_nb), annot=True, fmt='d', cmap='Blues',\n",
        "            xticklabels=target_names, yticklabels=target_names)\n",
        "            plt.title('Confusion Matrix - Naive Bayes')\n",
        "            plt.xlabel('Predicted')\n",
        "            plt.ylabel('Actual')\n",
        "            plt.show()\n",
        "\n",
        "            # Visualisasi Confusion Matrix untuk KNN\n",
        "            plt.figure(figsize=(6,4))\n",
        "            sns.heatmap(confusion_matrix(y_test, y_pred_knn), annot=True, fmt='d', cmap='Greens',\n",
        "                        xticklabels=target_names, yticklabels=target_names)\n",
        "                        plt.title('Confusion Matrix - KNN')\n",
        "                        plt.xlabel('Predicted')\n",
        "                        plt.ylabel('Actual')\n",
        "                        plt.show()"
      ],
      "metadata": {
        "id": "-23-zVv9pfSz"
      },
      "execution_count": null,
      "outputs": []
    },
    {
      "cell_type": "code",
      "source": [
        "# Menghitung akurasi\n",
        "accuracy_nb = accuracy_score(y_test, y_pred_nb)\n",
        "accuracy_knn = accuracy_score(y_test, y_pred_knn)\n",
        "\n",
        "print(f\"Akurasi Naive Bayes: {accuracy_nb:.2f}\")\n",
        "print(f\"Akurasi KNN: {accuracy_knn:.2f}\")\n"
      ],
      "metadata": {
        "id": "mNAMT-UDqPmt"
      },
      "execution_count": null,
      "outputs": []
    }
  ]
}